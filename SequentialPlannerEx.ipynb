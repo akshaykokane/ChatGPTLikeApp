{
 "cells": [
  {
   "cell_type": "code",
   "execution_count": 8,
   "metadata": {
    "dotnet_interactive": {
     "language": "csharp"
    },
    "polyglot_notebook": {
     "kernelName": "csharp"
    }
   },
   "outputs": [
    {
     "data": {
      "text/html": [
       "<div><div></div><div></div><div><strong>Installed Packages</strong><ul><li><span>Microsoft.SemanticKernel, 0.17.230629.1-preview</span></li><li><span>Microsoft.SemanticKernel.Connectors.Memory.AzureCognitiveSearch, 0.17.230629.1-preview</span></li><li><span>microsoft.semantickernel.core, 0.17.230629.1-preview</span></li><li><span>Microsoft.SemanticKernel.Planning.StepwisePlanner, 0.17.230629.1-preview</span></li></ul></div></div>"
      ]
     },
     "metadata": {},
     "output_type": "display_data"
    }
   ],
   "source": [
    "\n",
    "#r \"nuget: Microsoft.SemanticKernel, 0.17.230629.1-preview\"\n",
    "#r \"nuget: Microsoft.SemanticKernel.Connectors.Memory.AzureCognitiveSearch, 0.17.230629.1-preview\"\n",
    "#r \"nuget: Microsoft.SemanticKernel.Core, 0.17.230629.1-preview\"\n",
    "#r \"nuget: Microsoft.SemanticKernel.Planning.StepwisePlanner, 0.17.230629.1-preview\""
   ]
  },
  {
   "cell_type": "code",
   "execution_count": 20,
   "metadata": {
    "dotnet_interactive": {
     "language": "csharp"
    },
    "polyglot_notebook": {
     "kernelName": "csharp"
    }
   },
   "outputs": [],
   "source": [
    "using Microsoft.SemanticKernel;\n",
    "using Microsoft.SemanticKernel.Memory;\n",
    "\n",
    "IKernel semanticKernel = Kernel.Builder\n",
    "                    .WithOpenAITextCompletionService(\n",
    "                        \"text-davinci-003\",                     // OpenAI Model Name\n",
    "                        \"sk-\" // OpenAI Key\n",
    "                    )\n",
    "                    .Build();"
   ]
  },
  {
   "cell_type": "markdown",
   "metadata": {},
   "source": [
    "# Skill 1: Register Native Function\n",
    "\n",
    "I am copying directily from https://github.com/microsoft/semantic-kernel two basic native function"
   ]
  },
  {
   "cell_type": "code",
   "execution_count": 21,
   "metadata": {
    "dotnet_interactive": {
     "language": "csharp"
    },
    "polyglot_notebook": {
     "kernelName": "csharp"
    }
   },
   "outputs": [],
   "source": [
    "// Copyright (c) Microsoft. All rights reserved.\n",
    "\n",
    "using System.ComponentModel;\n",
    "using Microsoft.SemanticKernel.SkillDefinition;\n",
    "\n",
    "public sealed class StaticTextSkill\n",
    "{\n",
    "    [SKFunction, Description(\"Change all string chars to uppercase\")]\n",
    "    public static string Uppercase([Description(\"Text to uppercase\")] string input) =>\n",
    "        input.ToUpperInvariant();\n",
    "\n",
    "    [SKFunction, Description(\"Append the day variable\")]\n",
    "    public static string AppendDay(\n",
    "        [Description(\"Text to append to\")] string input,\n",
    "        [Description(\"Value of the day to append\")] string day) =>\n",
    "        input + day;\n",
    "\n",
    "    [SKFunction, Description(\"Get today's day\")]\n",
    "    public static string GetTodayDay() =>\n",
    "        DateTime.Today.DayOfWeek.ToString();\n",
    "}\n",
    "\n",
    "// register native function\n",
    "semanticKernel.ImportSkill(new StaticTextSkill(), \"StaticTextSkill\");"
   ]
  },
  {
   "cell_type": "markdown",
   "metadata": {},
   "source": [
    "# Define PLanner"
   ]
  },
  {
   "cell_type": "code",
   "execution_count": 22,
   "metadata": {
    "dotnet_interactive": {
     "language": "csharp"
    },
    "polyglot_notebook": {
     "kernelName": "csharp"
    }
   },
   "outputs": [
    {
     "data": {
      "text/html": [
       "<div><div></div><div></div><div><strong>Installed Packages</strong><ul><li><span>Microsoft.SemanticKernel.Planning.SequentialPlanner, 0.17.230629.1-preview</span></li></ul></div></div>"
      ]
     },
     "metadata": {},
     "output_type": "display_data"
    }
   ],
   "source": [
    "#r \"nuget: Microsoft.SemanticKernel.Planning.SequentialPlanner, 0.17.230629.1-preview\""
   ]
  },
  {
   "cell_type": "code",
   "execution_count": 23,
   "metadata": {
    "dotnet_interactive": {
     "language": "csharp"
    },
    "polyglot_notebook": {
     "kernelName": "csharp"
    }
   },
   "outputs": [],
   "source": [
    "using Microsoft.SemanticKernel.Planning;\n",
    "using Microsoft.SemanticKernel.Planning.Sequential;\n",
    "\n",
    "var plannerConfig = new SequentialPlannerConfig();\n",
    "plannerConfig.MaxTokens = 1000;\n",
    "\n",
    "SequentialPlanner planner = new SequentialPlanner(semanticKernel, plannerConfig);\n"
   ]
  },
  {
   "cell_type": "code",
   "execution_count": 24,
   "metadata": {
    "dotnet_interactive": {
     "language": "csharp"
    },
    "polyglot_notebook": {
     "kernelName": "csharp"
    }
   },
   "outputs": [],
   "source": [
    "var plan = await planner.CreatePlanAsync(\"convert this text to upper case and append today's day : Hi, today is lovely day :  \");"
   ]
  },
  {
   "cell_type": "code",
   "execution_count": 25,
   "metadata": {
    "dotnet_interactive": {
     "language": "csharp"
    },
    "polyglot_notebook": {
     "kernelName": "csharp"
    }
   },
   "outputs": [],
   "source": [
    "var result = await plan.InvokeAsync(semanticKernel.CreateNewContext());\n"
   ]
  },
  {
   "cell_type": "code",
   "execution_count": 29,
   "metadata": {
    "dotnet_interactive": {
     "language": "csharp"
    },
    "polyglot_notebook": {
     "kernelName": "csharp"
    }
   },
   "outputs": [
    {
     "name": "stdout",
     "output_type": "stream",
     "text": [
      "\n",
      "Plan: {\"state\":[{\"Key\":\"RESULT__FINAL_ANSWER\",\"Value\":\"HI, TODAY IS LOVELY DAY :SATURDAY\"},{\"Key\":\"PLAN.RESULT\",\"Value\":\"\\nHI, TODAY IS LOVELY DAY :SATURDAY\"},{\"Key\":\"TODAY_DAY\",\"Value\":\"Saturday\"},{\"Key\":\"INPUT_WITH_DAY\",\"Value\":\"Hi, today is lovely day :Saturday\"},{\"Key\":\"INPUT\",\"Value\":\"HI, TODAY IS LOVELY DAY :SATURDAY\"}],\"steps\":[{\"state\":[{\"Key\":\"INPUT\",\"Value\":\"\"}],\"steps\":[],\"parameters\":[{\"Key\":\"INPUT\",\"Value\":\"\"}],\"outputs\":[\"TODAY_DAY\"],\"next_step_index\":0,\"name\":\"GetTodayDay\",\"skill_name\":\"StaticTextSkill\",\"description\":\"Get today\\u0027s day\"},{\"state\":[{\"Key\":\"INPUT\",\"Value\":\"\"}],\"steps\":[],\"parameters\":[{\"Key\":\"day\",\"Value\":\"$TODAY_DAY\"},{\"Key\":\"INPUT\",\"Value\":\"Hi, today is lovely day :\"}],\"outputs\":[\"INPUT_WITH_DAY\"],\"next_step_index\":0,\"name\":\"AppendDay\",\"skill_name\":\"StaticTextSkill\",\"description\":\"Append the day variable\"},{\"state\":[{\"Key\":\"INPUT\",\"Value\":\"\"}],\"steps\":[],\"parameters\":[{\"Key\":\"INPUT\",\"Value\":\"$INPUT_WITH_DAY\"}],\"outputs\":[\"RESULT__FINAL_ANSWER\"],\"next_step_index\":0,\"name\":\"Uppercase\",\"skill_name\":\"StaticTextSkill\",\"description\":\"Change all string chars to uppercase\"}],\"parameters\":[{\"Key\":\"INPUT\",\"Value\":\"\"}],\"outputs\":[\"RESULT__FINAL_ANSWER\"],\"next_step_index\":3,\"name\":\"\",\"skill_name\":\"Microsoft.SemanticKernel.Planning.Plan\",\"description\":\"convert this text to upper case and append today\\u0027s day : Hi, today is lovely day :  \"}\n",
      "\n",
      "\n",
      "Final Answer is : \n",
      "HI, TODAY IS LOVELY DAY :SATURDAY\n"
     ]
    }
   ],
   "source": [
    "Console.WriteLine(\"\\nPlan: \" + plan.ToJson());\n",
    "Console.WriteLine(\"\\n\\nFinal Answer is : \" + result);"
   ]
  },
  {
   "cell_type": "code",
   "execution_count": null,
   "metadata": {
    "dotnet_interactive": {
     "language": "csharp"
    },
    "polyglot_notebook": {
     "kernelName": "csharp"
    }
   },
   "outputs": [],
   "source": []
  }
 ],
 "metadata": {
  "kernelspec": {
   "display_name": ".NET (C#)",
   "language": "C#",
   "name": ".net-csharp"
  },
  "language_info": {
   "name": "polyglot-notebook"
  },
  "orig_nbformat": 4,
  "polyglot_notebook": {
   "kernelInfo": {
    "defaultKernelName": "csharp",
    "items": [
     {
      "aliases": [],
      "name": "csharp"
     }
    ]
   }
  }
 },
 "nbformat": 4,
 "nbformat_minor": 2
}
