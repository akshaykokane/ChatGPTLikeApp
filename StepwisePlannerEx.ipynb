{
 "cells": [
  {
   "cell_type": "code",
   "execution_count": 1,
   "metadata": {
    "dotnet_interactive": {
     "language": "csharp"
    },
    "polyglot_notebook": {
     "kernelName": "csharp"
    }
   },
   "outputs": [
    {
     "data": {
      "text/html": [
       "<div><div></div><div></div><div><strong>Installed Packages</strong><ul><li><span>Microsoft.SemanticKernel, 0.17.230629.1-preview</span></li><li><span>Microsoft.SemanticKernel.Connectors.Memory.AzureCognitiveSearch, 0.17.230629.1-preview</span></li><li><span>Microsoft.SemanticKernel.Core, 0.17.230629.1-preview</span></li></ul></div></div>"
      ]
     },
     "metadata": {},
     "output_type": "display_data"
    }
   ],
   "source": [
    "\n",
    "#r \"nuget: Microsoft.SemanticKernel, 0.17.230629.1-preview\"\n",
    "#r \"nuget: Microsoft.SemanticKernel.Connectors.Memory.AzureCognitiveSearch, 0.17.230629.1-preview\"\n",
    "#r \"nuget: Microsoft.SemanticKernel.Core, 0.17.230629.1-preview\"\n",
    "#r \"nuget: Microsoft.SemanticKernel.Planning.StepwisePlanner, 0.17.230629.1-preview\""
   ]
  },
  {
   "cell_type": "code",
   "execution_count": 2,
   "metadata": {
    "dotnet_interactive": {
     "language": "csharp"
    },
    "polyglot_notebook": {
     "kernelName": "csharp"
    }
   },
   "outputs": [],
   "source": [
    "using Microsoft.SemanticKernel;\n",
    "using Microsoft.SemanticKernel.Memory;\n",
    "\n",
    "IKernel semanticKernel = Kernel.Builder\n",
    "                    .WithOpenAITextCompletionService(\n",
    "                        \"text-davinci-003\",                     // OpenAI Model Name\n",
    "                        \"sk-<KEY-HERE>\" // OpenAI Key\n",
    "                    )\n",
    "                    .Build();"
   ]
  },
  {
   "cell_type": "markdown",
   "metadata": {},
   "source": [
    "# Skill 1: Register Native Function\n",
    "\n",
    "I am copying directily from https://github.com/microsoft/semantic-kernel two basic native function"
   ]
  },
  {
   "cell_type": "code",
   "execution_count": 59,
   "metadata": {
    "dotnet_interactive": {
     "language": "csharp"
    },
    "polyglot_notebook": {
     "kernelName": "csharp"
    }
   },
   "outputs": [],
   "source": [
    "// Copyright (c) Microsoft. All rights reserved.\n",
    "\n",
    "using System.ComponentModel;\n",
    "using Microsoft.SemanticKernel.SkillDefinition;\n",
    "\n",
    "public sealed class StaticTextSkill\n",
    "{\n",
    "    [SKFunction, Description(\"Change all string chars to uppercase\")]\n",
    "    public static string Uppercase([Description(\"Text to uppercase\")] string input) =>\n",
    "        input.ToUpperInvariant();\n",
    "\n",
    "    [SKFunction, Description(\"Append the day variable\")]\n",
    "    public static string AppendDay(\n",
    "        [Description(\"Text to append to\")] string input,\n",
    "        [Description(\"Value of the day to append\")] string day) =>\n",
    "        input + day;\n",
    "\n",
    "    [SKFunction, Description(\"Get today's day\")]\n",
    "    public static string GetTodayDay() =>\n",
    "        DateTime.Today.DayOfWeek.ToString();\n",
    "}\n",
    "\n",
    "// register native function\n",
    "semanticKernel.ImportSkill(new StaticTextSkill(), \"StaticTextSkill\");"
   ]
  },
  {
   "cell_type": "markdown",
   "metadata": {},
   "source": [
    "# Define PLanner"
   ]
  },
  {
   "cell_type": "code",
   "execution_count": 60,
   "metadata": {
    "dotnet_interactive": {
     "language": "csharp"
    },
    "polyglot_notebook": {
     "kernelName": "csharp"
    }
   },
   "outputs": [],
   "source": [
    "using Microsoft.SemanticKernel.Planning;\n",
    "using Microsoft.SemanticKernel.Planning.Stepwise;\n",
    "\n",
    "var plannerConfig = new Microsoft.SemanticKernel.Planning.Stepwise.StepwisePlannerConfig();\n",
    "plannerConfig.ExcludedFunctions.Add(\"TranslateMathProblem\");\n",
    "plannerConfig.MinIterationTimeMs = 1500;\n",
    "plannerConfig.MaxTokens = 1000;\n",
    "\n",
    "StepwisePlanner planner = new StepwisePlanner(semanticKernel, plannerConfig);\n"
   ]
  },
  {
   "cell_type": "code",
   "execution_count": 70,
   "metadata": {
    "dotnet_interactive": {
     "language": "csharp"
    },
    "polyglot_notebook": {
     "kernelName": "csharp"
    }
   },
   "outputs": [],
   "source": [
    "var plan = planner.CreatePlan(\"convert this text to upper case and append today's day : Hi, today is lovely day :  \");"
   ]
  },
  {
   "cell_type": "code",
   "execution_count": 71,
   "metadata": {
    "dotnet_interactive": {
     "language": "csharp"
    },
    "polyglot_notebook": {
     "kernelName": "csharp"
    }
   },
   "outputs": [],
   "source": [
    "var result = await plan.InvokeAsync(semanticKernel.CreateNewContext());\n"
   ]
  },
  {
   "cell_type": "code",
   "execution_count": 72,
   "metadata": {
    "dotnet_interactive": {
     "language": "csharp"
    },
    "polyglot_notebook": {
     "kernelName": "csharp"
    }
   },
   "outputs": [
    {
     "name": "stdout",
     "output_type": "stream",
     "text": [
      "Steps Taken: 5\n",
      " This was my previous work (but they haven't seen any of it! They only see what I return as final answer):\n",
      "[THOUGHT] \n",
      "[OBSERVATION] System step error, no thought or action found. Please give a valid thought and/or action.\n",
      "[THOUGHT] I need to use the StaticTextSkill.Uppercase and StaticTextSkill.AppendDay functions to convert the text to uppercase and append today's day.\n",
      "[ACTION] {\"action\": \"StaticTextSkill.Uppercase\",\"action_variables\": {\"input\":\"Hi, today is lovely day\"}}\n",
      "[OBSERVATION] HI, TODAY IS LOVELY DAY\n",
      "[THOUGHT] [ACTION] {\"action\": \"StaticTextSkill.GetTodayDay\"}\n",
      "[ACTION] {\"action\": \"StaticTextSkill.GetTodayDay\",\"action_variables\": null}\n",
      "[OBSERVATION] Saturday\n",
      "[THOUGHT] I need to use the StaticTextSkill.AppendDay function to append the day to the text.\n",
      "[ACTION] {\"action\": \"StaticTextSkill.AppendDay\",\"action_variables\": {\"input\":\"HI, TODAY IS LOVELY DAY\",\"day\":\"Saturday\"}}\n",
      "[OBSERVATION] HI, TODAY IS LOVELY DAYSaturday\n",
      "[THOUGHT]\n",
      "\n",
      "\n",
      "Final Answer is : The text \"Hi, today is lovely day\" converted to uppercase and appended with today's day (Saturday) is \"HI, TODAY IS LOVELY DAYSaturday\".\n"
     ]
    }
   ],
   "source": [
    "if (result.Variables.TryGetValue(\"stepCount\", out string? stepCount))\n",
    "{\n",
    "        Console.WriteLine(\"Steps Taken: \" + stepCount);\n",
    "}\n",
    "\n",
    "if (result.Variables.TryGetValue(\"agentScratchPad\", out string? agentThinking))\n",
    "{\n",
    "        Console.WriteLine(\" \" + agentThinking);\n",
    "}\n",
    "\n",
    "Console.WriteLine(\"\\n\\nFinal Answer is : \" + result);"
   ]
  },
  {
   "cell_type": "code",
   "execution_count": null,
   "metadata": {
    "dotnet_interactive": {
     "language": "csharp"
    },
    "polyglot_notebook": {
     "kernelName": "csharp"
    }
   },
   "outputs": [],
   "source": []
  }
 ],
 "metadata": {
  "kernelspec": {
   "display_name": ".NET (C#)",
   "language": "C#",
   "name": ".net-csharp"
  },
  "language_info": {
   "name": "polyglot-notebook"
  },
  "orig_nbformat": 4,
  "polyglot_notebook": {
   "kernelInfo": {
    "defaultKernelName": "csharp",
    "items": [
     {
      "aliases": [],
      "name": "csharp"
     }
    ]
   }
  }
 },
 "nbformat": 4,
 "nbformat_minor": 2
}
